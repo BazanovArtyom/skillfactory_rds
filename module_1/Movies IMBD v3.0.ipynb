{
 "cells": [
  {
   "cell_type": "code",
   "execution_count": 147,
   "metadata": {
    "_cell_guid": "b1076dfc-b9ad-4769-8c92-a6c4dae69d19",
    "_uuid": "8f2839f25d086af736a60e9eeb907d3b93b6e0e5"
   },
   "outputs": [],
   "source": [
    "import numpy as np\n",
    "import pandas as pd\n",
    "import seaborn as sns\n",
    "import matplotlib.pyplot as plt\n",
    "import os\n",
    "from collections import Counter\n",
    "#print(os.listdir(\"../input\"))"
   ]
  },
  {
   "cell_type": "code",
   "execution_count": 3,
   "metadata": {
    "scrolled": false
   },
   "outputs": [
    {
     "data": {
      "text/plain": [
       "Index(['imdb_id', 'popularity', 'budget', 'revenue', 'original_title', 'cast',\n",
       "       'director', 'tagline', 'overview', 'runtime', 'genres',\n",
       "       'production_companies', 'release_date', 'vote_count', 'vote_average',\n",
       "       'release_year'],\n",
       "      dtype='object')"
      ]
     },
     "execution_count": 3,
     "metadata": {},
     "output_type": "execute_result"
    }
   ],
   "source": [
    "data = pd.read_csv('data.csv')\n",
    "#data.head(5)\n",
    "#len(data)\n",
    "data.columns"
   ]
  },
  {
   "cell_type": "code",
   "execution_count": 442,
   "metadata": {},
   "outputs": [
    {
     "data": {
      "text/plain": [
       "491    The Warrior's Way\n",
       "Name: original_title, dtype: object"
      ]
     },
     "execution_count": 442,
     "metadata": {},
     "output_type": "execute_result"
    }
   ],
   "source": [
    "#1. У какого фильма из списка самый большой бюджет?\n",
    "films = ['The Dark Knight Rises', 'Spider-Man 3', 'Avengers: Age of Ultron', \"The Warrior's Way\", 'Pirates of the Caribbean: On Stranger Tides']\n",
    "\n",
    "#группируем данные по названию указанных фильмов\n",
    "grouped_data = data.loc[(data['original_title'] == 'The Dark Knight Rises') | \n",
    "         (data['original_title'] == 'Spider-Man 3') |\n",
    "         (data['original_title'] == 'Avengers: Age of Ultron') |\n",
    "         (data['original_title'] == \"The Warrior's Way\")|\n",
    "         (data['original_title'] == 'Pirates of the Caribbean: On Stranger Tides')][['original_title', 'revenue', 'budget']]\n",
    "\n",
    "#ищем с самым большим бюджетом\n",
    "grouped_data[(grouped_data.budget == grouped_data.budget.max())].original_title"
   ]
  },
  {
   "cell_type": "code",
   "execution_count": 444,
   "metadata": {},
   "outputs": [
    {
     "data": {
      "text/plain": [
       "1158    Gods and Generals\n",
       "Name: original_title, dtype: object"
      ]
     },
     "execution_count": 444,
     "metadata": {},
     "output_type": "execute_result"
    }
   ],
   "source": [
    "#2. Какой из фильмов самый длительный (в минутах)?\n",
    "#группируем данные по названию указанных фильмов\n",
    "grouped_data = data.loc[(data['original_title'] == 'The Lord of the Rings: The Return of the King') | \n",
    "         (data['original_title'] == 'Gods and Generals') |\n",
    "         (data['original_title'] == 'Alexander') |\n",
    "         (data['original_title'] == \"King Kong\")|\n",
    "         (data['original_title'] == 'Pearl Harbor')][['original_title', 'runtime']]\n",
    "#находим самый длительный фильм\n",
    "grouped_data[(grouped_data.runtime == grouped_data.runtime.max())].original_title"
   ]
  },
  {
   "cell_type": "code",
   "execution_count": 445,
   "metadata": {},
   "outputs": [
    {
     "data": {
      "text/plain": [
       "769    Winnie the Pooh\n",
       "Name: original_title, dtype: object"
      ]
     },
     "execution_count": 445,
     "metadata": {},
     "output_type": "execute_result"
    }
   ],
   "source": [
    "#3. Какой из фильмов самый короткий (в минутах)?\n",
    "grouped_data = data.loc[(data['original_title'] == 'Home on the Range') | \n",
    "         (data['original_title'] == 'The Jungle Book 2') |\n",
    "         (data['original_title'] == 'Corpse Bride') |\n",
    "         (data['original_title'] == \"Winnie the Pooh\")|\n",
    "         (data['original_title'] == 'Hoodwinked!')][['original_title', 'runtime']]\n",
    "#находим самый длительный фильм\n",
    "grouped_data[(grouped_data.runtime == grouped_data.runtime.min())].original_title"
   ]
  },
  {
   "cell_type": "code",
   "execution_count": 452,
   "metadata": {},
   "outputs": [
    {
     "data": {
      "text/plain": [
       "109.65343915343915"
      ]
     },
     "execution_count": 452,
     "metadata": {},
     "output_type": "execute_result"
    }
   ],
   "source": [
    "#4. Какое число ближе к средней длительности фильма в датасете?\n",
    "data['runtime'].mean()"
   ]
  },
  {
   "cell_type": "code",
   "execution_count": 453,
   "metadata": {},
   "outputs": [
    {
     "data": {
      "text/plain": [
       "106.5"
      ]
     },
     "execution_count": 453,
     "metadata": {},
     "output_type": "execute_result"
    }
   ],
   "source": [
    "#5. Какое число ближе к медианной длительности фильма в датасете?\n",
    "data['runtime'].median()"
   ]
  },
  {
   "cell_type": "code",
   "execution_count": 456,
   "metadata": {},
   "outputs": [
    {
     "data": {
      "text/plain": [
       "239    Avatar\n",
       "Name: original_title, dtype: object"
      ]
     },
     "execution_count": 456,
     "metadata": {},
     "output_type": "execute_result"
    }
   ],
   "source": [
    "#6. Какой самый прибыльный фильм?\n",
    "data[data['profit'] == data['profit'].max()].original_title"
   ]
  },
  {
   "cell_type": "code",
   "execution_count": 356,
   "metadata": {},
   "outputs": [
    {
     "data": {
      "text/plain": [
       "491    The Warrior's Way\n",
       "Name: original_title, dtype: object"
      ]
     },
     "execution_count": 356,
     "metadata": {},
     "output_type": "execute_result"
    }
   ],
   "source": [
    "#7. Какой фильм самый убыточный?\n",
    "#Supernova tt0134983\n",
    "#The Warrior's Way tt1032751\n",
    "#Flushed Away tt0424095\n",
    "#The Adventures of Pluto Nash tt0180052\n",
    "#The Lone Ranger tt1210819\n",
    "\n",
    "#добавляем колонку \"прибыль\"\n",
    "data['profit'] = data['revenue'] - data['budget']\n",
    "\n",
    "#группируем данные по названию указанных фильмов\n",
    "grouped_data = data.loc[(data['original_title'] == 'Supernova') | \n",
    "         (data['original_title'] == 'Flushed Away') |\n",
    "         (data['original_title'] == 'The Adventures of Pluto Nash') |\n",
    "         (data['original_title'] == 'The Lone Ranger')|\n",
    "         (data['original_title'] == \"The Warrior's Way\")][['original_title', 'revenue', 'budget', 'profit']]\n",
    "\n",
    "#ищем самый убыточный\n",
    "grouped_data[(grouped_data.profit == grouped_data.profit.min())].original_title\n",
    "\n"
   ]
  },
  {
   "cell_type": "code",
   "execution_count": 357,
   "metadata": {},
   "outputs": [
    {
     "data": {
      "text/plain": [
       "1478"
      ]
     },
     "execution_count": 357,
     "metadata": {},
     "output_type": "execute_result"
    }
   ],
   "source": [
    "#8. У скольких фильмов из датасета объем сборов оказался выше бюджета?\n",
    "count = 0\n",
    "for film in data['profit']:\n",
    "    if film > 0:\n",
    "        count +=1\n",
    "count"
   ]
  },
  {
   "cell_type": "code",
   "execution_count": 361,
   "metadata": {},
   "outputs": [
    {
     "data": {
      "text/plain": [
       "600    The Dark Knight\n",
       "Name: original_title, dtype: object"
      ]
     },
     "execution_count": 361,
     "metadata": {},
     "output_type": "execute_result"
    }
   ],
   "source": [
    "#9.Какой фильм оказался самым кассовым в 2008 году?\n",
    "#группируем фильмы за 2008 год\n",
    "grouped_data = data.loc[(data['release_year'] == 2008)]\n",
    "\n",
    "#ищем наиболее кассовый\n",
    "grouped_data[(grouped_data.profit == grouped_data.profit.max())].original_title\n",
    "\n",
    "\n"
   ]
  },
  {
   "cell_type": "code",
   "execution_count": 364,
   "metadata": {},
   "outputs": [
    {
     "data": {
      "text/plain": [
       "1246    The Lone Ranger\n",
       "Name: original_title, dtype: object"
      ]
     },
     "execution_count": 364,
     "metadata": {},
     "output_type": "execute_result"
    }
   ],
   "source": [
    "#10. Самый убыточный фильм за период с 2012 по 2014 (включительно)?\n",
    "grouped_data = data.loc[(data['release_year'] == 2012) |\n",
    "                        (data['release_year'] == 2013) |\n",
    "                        (data['release_year'] == 2014)]\n",
    "grouped_data[(grouped_data.profit == grouped_data.profit.min())].original_title"
   ]
  },
  {
   "cell_type": "code",
   "execution_count": 373,
   "metadata": {},
   "outputs": [
    {
     "data": {
      "text/plain": [
       "{'Drama': 782}"
      ]
     },
     "execution_count": 373,
     "metadata": {},
     "output_type": "execute_result"
    }
   ],
   "source": [
    "#11. Какого жанра фильмов больше всего?\n",
    "#Action\n",
    "#Adventure\n",
    "#Drama\n",
    "#Comedy\n",
    "#Thriller\n",
    "\n",
    "#Вариант 1\n",
    "\n",
    "#print('Action', len(data[data.genres.str.contains('Action', na = False)]))\n",
    "#print('Adventure', len(data[data.genres.str.contains('Adventure', na = False)]))\n",
    "#print('Drama', len(data[data.genres.str.contains('Drama', na = False)]))\n",
    "#print('Comedy', len(data[data.genres.str.contains('Comedy', na = False)]))\n",
    "#print('Thriller', len(data[data.genres.str.contains('Thriller', na = False)]))\n",
    "\n",
    "#Вариант 2\n",
    "#создаем словарь с жанром и количесством фильмов этого жанра\n",
    "genres = ['Action', 'Adventure', 'Drama', 'Comedy', 'Thriller']\n",
    "genres_dict = {}\n",
    "\n",
    "#находим максимальное значение в словаре (подсмотрено в интернете)\n",
    "for genre in genres:\n",
    "    genres_dict.update({genre: len(data[data.genres.str.contains(genre, na = False)])})\n",
    "{x: y for x, y in filter(lambda x: genres_dict[x[0]] == max(genres_dict.values()), genres_dict.items())}"
   ]
  },
  {
   "cell_type": "code",
   "execution_count": 388,
   "metadata": {},
   "outputs": [
    {
     "data": {
      "text/plain": [
       "{'Drama': 782}"
      ]
     },
     "execution_count": 388,
     "metadata": {},
     "output_type": "execute_result"
    }
   ],
   "source": [
    "#12. Какого жанра среди прибыльных фильмов больше всего?\n",
    "#Drama\n",
    "#Comedy\n",
    "#Action\n",
    "#Thriller\n",
    "#Adventure\n",
    "\n",
    "genres = ['Action', 'Adventure', 'Drama', 'Comedy', 'Thriller']\n",
    "\n",
    "for genre in genres:\n",
    "    count = 0\n",
    "    grouped_data = data[data.genres.str.contains(genre, na = False)]\n",
    "    for profit in grouped_data['profit']:\n",
    "        if profit > 0:\n",
    "            count +=1\n",
    "        genres_dict.update({genre: len(data[data.genres.str.contains(genre, na = False)])})\n",
    "{x: y for x, y in filter(lambda x: genres_dict[x[0]] == max(genres_dict.values()), genres_dict.items())}"
   ]
  },
  {
   "cell_type": "code",
   "execution_count": 390,
   "metadata": {},
   "outputs": [
    {
     "name": "stdout",
     "output_type": "stream",
     "text": [
      "Steven Spielberg 10\n",
      "Ridley Scott 12\n",
      "Steven Soderbergh 13\n",
      "Christopher Nolan 8\n",
      "Clint Eastwood 12\n"
     ]
    }
   ],
   "source": [
    "#13. Кто из режиссеров снял больше всего фильмов?\n",
    "#Steven Spielberg\n",
    "#Ridley Scott\n",
    "#Steven Soderbergh\n",
    "#Christopher Nolan\n",
    "#Clint Eastwood\n",
    "#data.director.unique()\n",
    "\n",
    "directors = ['Steven Spielberg', 'Ridley Scott', 'Steven Soderbergh', 'Christopher Nolan', 'Clint Eastwood']\n",
    "for director in directors:\n",
    "    count = 0\n",
    "    grouped_data = data[data.director.str.contains(director, na = False)]\n",
    "    for s in grouped_data['profit']:\n",
    "        count +=1\n",
    "    print(director, count)"
   ]
  },
  {
   "cell_type": "code",
   "execution_count": 391,
   "metadata": {
    "scrolled": false
   },
   "outputs": [
    {
     "name": "stdout",
     "output_type": "stream",
     "text": [
      "Steven Spielberg 10\n",
      "Ridley Scott 12\n",
      "Steven Soderbergh 10\n",
      "Christopher Nolan 8\n",
      "Clint Eastwood 10\n"
     ]
    }
   ],
   "source": [
    "#14. Кто из режиссеров снял больше всего прибыльных фильмов?\n",
    "#Steven Spielberg\n",
    "#Ridley Scott\n",
    "#Steven Soderbergh\n",
    "#Christopher Nolan\n",
    "#Clint Eastwood\n",
    "#data.director.unique()\n",
    "\n",
    "directors = ['Steven Spielberg', 'Ridley Scott', 'Steven Soderbergh', 'Christopher Nolan', 'Clint Eastwood']\n",
    "for director in directors:\n",
    "    count = 0\n",
    "    grouped_data = data[data.director.str.contains(director, na = False)]\n",
    "    for s in grouped_data['profit']:\n",
    "        if s > 0:\n",
    "            count +=1\n",
    "    print(director, count)"
   ]
  },
  {
   "cell_type": "code",
   "execution_count": 401,
   "metadata": {},
   "outputs": [
    {
     "name": "stdout",
     "output_type": "stream",
     "text": [
      "Steven Spielberg 2.45 миллиардов $\n",
      "David Yates 3.38 миллиардов $\n",
      "James Cameron 2.55 миллиардов $\n",
      "Christopher Nolan 3.16 миллиардов $\n",
      "Peter Jackson 5.2 миллиардов $\n"
     ]
    }
   ],
   "source": [
    "#15. Кто из режиссеров принес больше всего прибыли?\n",
    "#Steven Spielberg\n",
    "#Christopher Nolan\n",
    "#David Yates\n",
    "#James Cameron\n",
    "#Peter Jackson\n",
    "\n",
    "directors = ['Steven Spielberg', 'David Yates', 'James Cameron', 'Christopher Nolan', 'Peter Jackson']\n",
    "for director in directors:\n",
    "    sum_profit = 0\n",
    "    grouped_data = data[data.director.str.contains(director, na = False)]\n",
    "    for s in grouped_data['profit']:\n",
    "        sum_profit +=s\n",
    "    print(director, round(sum_profit/10**9, 2), 'миллиардов $')"
   ]
  },
  {
   "cell_type": "code",
   "execution_count": 402,
   "metadata": {},
   "outputs": [
    {
     "name": "stdout",
     "output_type": "stream",
     "text": [
      "Emma Watson 6.67 миллиардов $\n",
      "Johnny Depp 4.78 миллиардов $\n",
      "Michelle Rodriguez 4.61 миллиардов $\n",
      "Orlando Bloom 5.15 миллиардов $\n",
      "Rupert Grint 6.41 миллиардов $\n"
     ]
    }
   ],
   "source": [
    "#16. Какой актер принес больше всего прибыли?\n",
    "#Emma Watson\n",
    "#Johnny Depp\n",
    "#Michelle Rodriguez\n",
    "#Orlando Bloom\n",
    "#Rupert Grint\n",
    "\n",
    "actors = ['Emma Watson', 'Johnny Depp', 'Michelle Rodriguez', 'Orlando Bloom', 'Rupert Grint']\n",
    "for actor in actors:\n",
    "    sum_profit = 0\n",
    "    grouped_data = data[data.cast.str.contains(actor, na = False)]\n",
    "    for s in grouped_data['profit']:\n",
    "        sum_profit +=s\n",
    "    print(actor, round(sum_profit/10**9, 2), 'миллиардов $')"
   ]
  },
  {
   "cell_type": "code",
   "execution_count": 406,
   "metadata": {},
   "outputs": [
    {
     "name": "stdout",
     "output_type": "stream",
     "text": [
      "Nicolas Cage -32.89 миллиона $\n",
      "Danny Huston -32.89 миллиона $\n",
      "Kirsten Dunst -68.11 миллиона $\n",
      "Jim Sturgess -23.41 миллиона $\n",
      "Sami Gayle -32.89 миллиона $\n"
     ]
    }
   ],
   "source": [
    "#17.Какой актер принес меньше всего прибыли в 2012 году?\n",
    "#Nicolas Cage\n",
    "#Danny Huston\n",
    "#Kirsten Dunst\n",
    "#Jim Sturgess\n",
    "#Sami Gayle\n",
    "grouped_data = data.loc[(data['release_year'] == 2012)]\n",
    "\n",
    "actors = ['Nicolas Cage', 'Danny Huston', 'Kirsten Dunst', 'Jim Sturgess', 'Sami Gayle']\n",
    "for actor in actors:\n",
    "    sum_profit = 0\n",
    "    grouped_data_2 = grouped_data[grouped_data.cast.str.contains(actor, na = False)]\n",
    "    for s in grouped_data_2['profit']:\n",
    "        sum_profit +=s\n",
    "    print(actor, round(sum_profit/(10**6), 2), 'миллиона $')\n"
   ]
  },
  {
   "cell_type": "code",
   "execution_count": 407,
   "metadata": {},
   "outputs": [
    {
     "name": "stdout",
     "output_type": "stream",
     "text": [
      "Tom Cruise 15\n",
      "Mark Wahlberg 14\n",
      "Matt Damon 18\n",
      "Angelina Jolie 16\n",
      "Adam Sandler 17\n"
     ]
    }
   ],
   "source": [
    "#18. Какой актер снялся в большем количестве высокобюджетных фильмов? (в фильмах где бюджет выше среднего по данной выборке)\n",
    "#Tom Cruise\n",
    "#Mark Wahlberg\n",
    "#Matt Damon\n",
    "#Angelina Jolie\n",
    "#Adam Sandler\n",
    "grouped_data = data.loc[(data['budget'] > data['budget'].mean())]\n",
    "actors = ['Tom Cruise', 'Mark Wahlberg', 'Matt Damon', 'Angelina Jolie', 'Adam Sandler']\n",
    "for actor in actors:\n",
    "    count = 0\n",
    "    grouped_data_2 = grouped_data[grouped_data.cast.str.contains(actor, na = False)]\n",
    "    for s in grouped_data_2['budget']:\n",
    "        count +=1\n",
    "    print(actor, count)"
   ]
  },
  {
   "cell_type": "code",
   "execution_count": 408,
   "metadata": {
    "scrolled": true
   },
   "outputs": [
    {
     "name": "stdout",
     "output_type": "stream",
     "text": [
      "Drama 12\n",
      "Action 17\n",
      "Thriller 15\n",
      "Adventure 7\n",
      "Crime 10\n"
     ]
    }
   ],
   "source": [
    "#19. В фильмах какого жанра больше всего снимался Nicolas Cage?\n",
    "#Drama\n",
    "#Action\n",
    "#Thriller\n",
    "#Adventure\n",
    "#Crime\n",
    "grouped_data = data.loc[data.cast.str.contains('Nicolas Cage', na = False)]\n",
    "\n",
    "genres = ['Drama', 'Action', 'Thriller', 'Adventure', 'Crime']\n",
    "for genre2 in genres:\n",
    "    count = 0\n",
    "    grouped_data_2 = grouped_data[grouped_data.genres.str.contains(genre2, na = False)]\n",
    "    for s in grouped_data_2['genres']:\n",
    "        count +=1\n",
    "    print(genre2, count)"
   ]
  },
  {
   "cell_type": "code",
   "execution_count": 409,
   "metadata": {},
   "outputs": [
    {
     "name": "stdout",
     "output_type": "stream",
     "text": [
      "Universal 185\n",
      "Paramount Pictures 122\n",
      "Columbia Pictures 163\n",
      "Warner Bros 183\n",
      "Twentieth Century Fox 117\n"
     ]
    }
   ],
   "source": [
    "#20. Какая студия сняла больше всего фильмов? !!!!!!!!!!!!!!\n",
    "#Universal Pictures (Universal)\n",
    "#Paramount Pictures\n",
    "#Columbia Pictures\n",
    "#Warner Bros\n",
    "#Twentieth Century Fox Film Corporation\n",
    "\n",
    "prod_comp = ['Universal', 'Paramount Pictures', 'Columbia Pictures', 'Warner Bros', 'Twentieth Century Fox']\n",
    "for comp in prod_comp:\n",
    "    count = 0\n",
    "    grouped_data = data[data.production_companies.str.contains(comp, na = False)]\n",
    "    for s in grouped_data['original_title']:\n",
    "        count +=1\n",
    "    print(comp, count)\n",
    "\n",
    "#ошибка из-за того, что в списке было указано Universal Pictures"
   ]
  },
  {
   "cell_type": "code",
   "execution_count": 410,
   "metadata": {},
   "outputs": [
    {
     "name": "stdout",
     "output_type": "stream",
     "text": [
      "Universal Pictures 11\n",
      "Paramount Pictures 7\n",
      "Columbia Pictures 7\n",
      "Warner Bros 12\n",
      "Twentieth Century Fox Film Corporation 8\n"
     ]
    }
   ],
   "source": [
    "#21. Какая студия сняла больше всего фильмов в 2015 году?\n",
    "#Universal Pictures\n",
    "#Paramount Pictures\n",
    "#Columbia Pictures\n",
    "#Warner Bros\n",
    "#Twentieth Century Fox Film Corporation\n",
    "\n",
    "grouped_data = data.loc[(data['release_year'] == 2015)]\n",
    "prod_comp = ['Universal Pictures', 'Paramount Pictures', 'Columbia Pictures', 'Warner Bros', 'Twentieth Century Fox Film Corporation']\n",
    "for comp in prod_comp:\n",
    "    count = 0\n",
    "    grouped_data_2 = grouped_data[grouped_data.production_companies.str.contains(comp, na = False)]\n",
    "    for s in grouped_data_2['production_companies']:\n",
    "        count +=1\n",
    "    print(comp, count)\n"
   ]
  },
  {
   "cell_type": "code",
   "execution_count": 418,
   "metadata": {
    "scrolled": true
   },
   "outputs": [
    {
     "name": "stdout",
     "output_type": "stream",
     "text": [
      "Universal Pictures 8.952422726 миллиардов $\n",
      "Columbia Pictures 7.161805266 миллиардов $\n",
      "Paramount Pictures 3.055625722 миллиардов $\n",
      "Warner Bros 4.370928916 миллиардов $\n",
      "Walt Disney 7.975933215 миллиардов $\n"
     ]
    }
   ],
   "source": [
    "#22. Какая студия заработала больше всего денег в жанре комедий за все время?\n",
    "#Warner Bros\n",
    "#Universal Pictures (Universal)\n",
    "#Columbia Pictures\n",
    "#Paramount Pictures\n",
    "#Walt Disney\n",
    "\n",
    "grouped_data = data.loc[data.genres.str.contains('Comedy', na = False)]\n",
    "prod_comp = ['Universal Pictures', 'Columbia Pictures', 'Paramount Pictures', 'Warner Bros', 'Walt Disney']\n",
    "for comp in prod_comp:\n",
    "    count = 0\n",
    "    grouped_data_2 = grouped_data[grouped_data.production_companies.str.contains(comp, na = False)]\n",
    "    for s in grouped_data_2['profit']:\n",
    "        count +=s\n",
    "    print(comp, count/10**9, 'миллиардов $')\n"
   ]
  },
  {
   "cell_type": "code",
   "execution_count": 423,
   "metadata": {
    "scrolled": true
   },
   "outputs": [
    {
     "name": "stdout",
     "output_type": "stream",
     "text": [
      "Universal Pictures 1.981011579\n",
      "Columbia Pictures 2.501406608\n",
      "Paramount Pictures 0.410726715\n",
      "Warner Bros 1.258020056\n",
      "Lucasfilm -0.007634623\n"
     ]
    }
   ],
   "source": [
    "#23. Какая студия заработала больше всего денег в 2012 году?\n",
    "#Universal Pictures (Universal)\n",
    "#Warner Bros\n",
    "#Columbia Pictures\n",
    "#Paramount Pictures\n",
    "#Lucasfilm\n",
    "\n",
    "grouped_data = data.loc[(data['release_year'] == 2012)]\n",
    "prod_comp = ['Universal Pictures', 'Columbia Pictures', 'Paramount Pictures', 'Warner Bros', 'Lucasfilm']\n",
    "for comp in prod_comp:\n",
    "    count = 0\n",
    "    grouped_data_2 = grouped_data[grouped_data.production_companies.str.contains(comp, na = False)]\n",
    "    for s in grouped_data_2['profit']:\n",
    "        count +=s\n",
    "    print(comp, count/10**9, 'миллиардов $')"
   ]
  },
  {
   "cell_type": "code",
   "execution_count": 425,
   "metadata": {},
   "outputs": [
    {
     "name": "stdout",
     "output_type": "stream",
     "text": [
      "K-19: The Widowmaker -64.831034 миллионов $\n",
      "Next -51.788987 миллионов $\n",
      "Twisted -24.805 миллионов $\n",
      "The Love Guru -20.180936 миллионов $\n",
      "The Fighter -15.809131 миллионов $\n"
     ]
    }
   ],
   "source": [
    "#24. Самый убыточный фильм от Paramount Pictures\n",
    "#K-19: The Widowmaker tt0267626\n",
    "#Next tt0435705\n",
    "#Twisted tt0315297\n",
    "#The Love Guru tt0811138\n",
    "#The Fighter tt0964517\n",
    "\n",
    "grouped_data = data[data.production_companies.str.contains('Paramount Pictures', na = False)]\n",
    "films = ['K-19: The Widowmaker', 'Next', 'Twisted', 'The Love Guru', 'The Fighter']\n",
    "for film in films:\n",
    "    grouped_data_2 = grouped_data[grouped_data.original_title.str.contains(film, na = False)]\n",
    "    count = 0\n",
    "    for s in grouped_data_2['profit']:\n",
    "        count +=s\n",
    "    print(film, count/10**6, 'миллионов $')"
   ]
  },
  {
   "cell_type": "code",
   "execution_count": 427,
   "metadata": {},
   "outputs": [
    {
     "name": "stdout",
     "output_type": "stream",
     "text": [
      "2014 16.397812953 миллионов $\n",
      "2008 11.66388199 миллионов $\n",
      "2012 16.077001687 миллионов $\n",
      "2002 9.002361487 миллионов $\n",
      "2015 18.668572378 миллионов $\n"
     ]
    }
   ],
   "source": [
    "#25. Какой Самый прибыльный год (заработали больше всего)?¶\n",
    "2014\n",
    "2008\n",
    "2012\n",
    "2002\n",
    "2015\n",
    "years = [2014, 2008, 2012, 2002, 2015]\n",
    "for year in years:\n",
    "    grouped_data = data.loc[(data['release_year'] == year)]\n",
    "    count = 0\n",
    "    for s in grouped_data['profit']:\n",
    "        count +=s\n",
    "    print(year, count/10**9, 'миллиардов $')\n"
   ]
  },
  {
   "cell_type": "code",
   "execution_count": 429,
   "metadata": {},
   "outputs": [
    {
     "name": "stdout",
     "output_type": "stream",
     "text": [
      "2014 2.295464519 миллиардов $\n",
      "2008 2.134595031 миллиардов $\n",
      "2012 1.258020056 миллиардов $\n",
      "2002 1.022709901 миллиардов $\n",
      "2015 0.870368348 миллиардов $\n"
     ]
    }
   ],
   "source": [
    "#26. Какой Самый прибыльный год для студии Warner Bros?\n",
    "2014\n",
    "2008\n",
    "2012\n",
    "2010\n",
    "2015\n",
    "grouped_data = data[data.production_companies.str.contains('Warner Bros', na = False)]\n",
    "years = [2014, 2008, 2012, 2002, 2015]\n",
    "for year in years:\n",
    "    grouped_data_2 = grouped_data.loc[(grouped_data['release_year'] == year)]\n",
    "    count = 0\n",
    "    for s in grouped_data_2['profit']:\n",
    "        count +=s\n",
    "    print(year, count/10**9, 'миллиардов $')\n"
   ]
  },
  {
   "cell_type": "code",
   "execution_count": 129,
   "metadata": {},
   "outputs": [
    {
     "name": "stdout",
     "output_type": "stream",
     "text": [
      "1 110\n",
      "6 147\n",
      "12 191\n",
      "9 227\n",
      "5 140\n"
     ]
    }
   ],
   "source": [
    "#27. В каком месяце за все годы суммарно вышло больше всего фильмов?\n",
    "#Январь\n",
    "#Июнь\n",
    "#Декабрь\n",
    "#Сентябрь\n",
    "#Май\n",
    "import re\n",
    "pattern = re.compile(r'^\\d+')\n",
    "months = ['1', '6', '12', '9', '5']\n",
    "\n",
    "for month in months:\n",
    "    count = 0\n",
    "    for date in data.release_date:        \n",
    "        results = pattern.findall(date)\n",
    "        for result in results:\n",
    "            if month == result:\n",
    "                count +=1 \n",
    "    print(month, count)"
   ]
  },
  {
   "cell_type": "code",
   "execution_count": 142,
   "metadata": {
    "scrolled": true
   },
   "outputs": [
    {
     "name": "stdout",
     "output_type": "stream",
     "text": [
      "6 147\n",
      "7 142\n",
      "8 161\n",
      "450\n"
     ]
    }
   ],
   "source": [
    "#28. Сколько суммарно вышло фильмов летом? (за июнь, июль, август)\n",
    "345\n",
    "450\n",
    "478\n",
    "523\n",
    "381\n",
    "import re\n",
    "pattern = re.compile(r'^\\d+')\n",
    "months = ['6', '7', '8']\n",
    "\n",
    "sum_summer=0\n",
    "for month in months:\n",
    "    count = 0\n",
    "\n",
    "    for date in data.release_date:        \n",
    "        results = pattern.findall(date)\n",
    "\n",
    "        for result in results:\n",
    "\n",
    "            if month == result:\n",
    "                count +=1 \n",
    "    print(month, count)\n",
    "    sum_summer +=count    \n",
    "\n",
    "print(sum_summer)"
   ]
  },
  {
   "cell_type": "code",
   "execution_count": 430,
   "metadata": {},
   "outputs": [
    {
     "name": "stdout",
     "output_type": "stream",
     "text": [
      "Steven Soderbergh 6\n",
      "Christopher Nolan 0\n",
      "Clint Eastwood 6\n",
      "Ridley Scott 3\n",
      "Peter Jackson 7\n"
     ]
    }
   ],
   "source": [
    "#29. Какой режисер выпускает (суммарно по годам) больше всего фильмов зимой?\n",
    "#Steven Soderbergh\n",
    "#Christopher Nolan\n",
    "#Clint Eastwood\n",
    "#Ridley Scott\n",
    "#Peter Jackson\n",
    "\n",
    "pattern = re.compile(r'^\\d+')\n",
    "months = ['12', '1', '2']\n",
    "directors = ['Steven Soderbergh', 'Christopher Nolan', 'Clint Eastwood', 'Ridley Scott', 'Peter Jackson']\n",
    "for director in directors:\n",
    "    sum_winter=0\n",
    "    grouped_data = data[data.director.str.contains(director, na = False)]\n",
    "    for month in months:\n",
    "        count = 0\n",
    "\n",
    "        for date in grouped_data.release_date:        \n",
    "            results = pattern.findall(date)\n",
    "\n",
    "            for result in results:\n",
    "\n",
    "                if month == result:\n",
    "                    count +=1 \n",
    "        sum_winter +=count    \n",
    "\n",
    "    print(director, sum_winter)\n",
    "  \n"
   ]
  },
  {
   "cell_type": "code",
   "execution_count": 198,
   "metadata": {
    "scrolled": true
   },
   "outputs": [
    {
     "name": "stdout",
     "output_type": "stream",
     "text": [
      "Counter({'6': 7, '12': 4, '5': 4, '7': 1})\n"
     ]
    }
   ],
   "source": [
    "#30. Какой месяц чаще всего по годам самый прибыльный?\n",
    "#Январь\n",
    "#Июнь\n",
    "#Декабрь\n",
    "#Сентябрь\n",
    "#Май\n",
    "\n",
    "import re\n",
    "\n",
    "#выделяем месяц релиза в отдельный столбик\n",
    "pattern = re.compile(r'^\\d+')\n",
    "dates = []\n",
    "for date1 in data.release_date:\n",
    "    results = pattern.findall(date1)\n",
    "    dates+=results\n",
    "data['release_month'] = dates\n",
    "data.head(5)  \n",
    "\n",
    "#делаем сводную таблицу с прибыльностью каждого месяца\n",
    "pivot = data.pivot_table(values = ['profit'],\n",
    "index = ['release_month'],\n",
    "columns = ['release_year'],\n",
    "aggfunc = 'sum')\n",
    "\n",
    "#преобразуем MultiIndex в Index\n",
    "pivot.columns = pivot.columns.droplevel(0)\n",
    "#display(pivot)\n",
    "\n",
    "y = []\n",
    "#переводим названия столбцов из целых величин в строковые\n",
    "for column in pivot.columns:\n",
    "    x = str(column)\n",
    "    y.append(x)\n",
    "pivot.columns = y\n",
    "pivot.columns\n",
    "pivot_df = pivot.groupby(['release_month']).max()\n",
    "#display(pivot_df)\n",
    "\n",
    "#определяем максимальное значение в каждом месяце, делаем список из месяцев\n",
    "max_months = []\n",
    "for column in pivot_df.columns:\n",
    "    max_m = pivot_df[column].idxmax()\n",
    "    max_months.append(max_m)\n",
    "#print(max_months) \n",
    "\n",
    "#считаем количество одинаковые значений в строках с помощью встроенного класса Counter из модуля collections:\n",
    "counts = Counter(max_months)\n",
    "print(counts)"
   ]
  },
  {
   "cell_type": "code",
   "execution_count": 432,
   "metadata": {
    "scrolled": true
   },
   "outputs": [
    {
     "name": "stdout",
     "output_type": "stream",
     "text": [
      "Universal Pictures 14.731428571428571\n",
      "Four By Two Productions 83.0\n",
      "Paramount Pictures 17.0327868852459\n",
      "Warner Bros 15.251366120218579\n",
      "Jim Henson Company 59.0\n"
     ]
    }
   ],
   "source": [
    "#31. Названия фильмов какой студии в среднем самые длинные по количеству символов?\n",
    "#Universal Pictures (Universal)\n",
    "#Warner Bros\n",
    "#Jim Henson Company, The\n",
    "#Paramount Pictures\n",
    "#Four By Two Productions\n",
    "\n",
    "prod_comp = ['Universal Pictures', 'Four By Two Productions', 'Paramount Pictures', 'Warner Bros', 'Jim Henson Company']\n",
    "for comp in prod_comp:\n",
    "    count = 0\n",
    "    sum_title = 0\n",
    "    grouped_data = data[data.production_companies.str.contains(comp, na = False)]\n",
    "    for film in grouped_data.original_title:\n",
    "        count=count+1\n",
    "        sum_title +=len(film)\n",
    "    print(comp, sum_title/count)\n"
   ]
  },
  {
   "cell_type": "code",
   "execution_count": 221,
   "metadata": {
    "scrolled": true
   },
   "outputs": [
    {
     "name": "stdout",
     "output_type": "stream",
     "text": [
      "Universal Pictures 2.617142857142857\n",
      "Four By Two Productions 12.0\n",
      "Paramount Pictures 2.8688524590163933\n",
      "Warner Bros 2.73224043715847\n",
      "Jim Henson Company 10.0\n"
     ]
    }
   ],
   "source": [
    "#32. Названия фильмов какой студии в среднем самые длинные по количеству слов?\n",
    "#Universal Pictures (Universal)\n",
    "#Warner Bros\n",
    "#Jim Henson Company, The\n",
    "#Paramount Pictures\n",
    "#Four By Two Productions\n",
    "prod_comp = ['Universal Pictures', 'Four By Two Productions', 'Paramount Pictures', 'Warner Bros', 'Jim Henson Company']\n",
    "for comp in prod_comp:\n",
    "    count = 0\n",
    "    sum_title = 0\n",
    "    grouped_data = data[data.production_companies.str.contains(comp, na = False)]\n",
    "    for film in grouped_data.original_title:\n",
    "        count=count+1\n",
    "        sum_title +=len(film.split())\n",
    "    print(comp, sum_title/count)\n"
   ]
  },
  {
   "cell_type": "code",
   "execution_count": 242,
   "metadata": {
    "scrolled": false
   },
   "outputs": [
    {
     "data": {
      "text/plain": [
       "2461"
      ]
     },
     "execution_count": 242,
     "metadata": {},
     "output_type": "execute_result"
    }
   ],
   "source": [
    "#33. Сколько разных слов используется в названиях фильмов?(без учета регистра)\n",
    "#6540\n",
    "#1002\n",
    "#2461\n",
    "#28304\n",
    "#3432\n",
    "sum_title = []\n",
    "for film in data.original_title:\n",
    "    for words in film.split():\n",
    "        sum_title.append(words.lower())\n",
    "#print(sum_title)\n",
    "df=pd.DataFrame(sum_title)\n",
    "df[0].nunique()"
   ]
  },
  {
   "cell_type": "code",
   "execution_count": 439,
   "metadata": {
    "scrolled": true
   },
   "outputs": [
    {
     "data": {
      "text/plain": [
       "original_title\n",
       "The Dark Knight                                      8.1\n",
       "Inside Out                                           8.0\n",
       "Interstellar                                         8.0\n",
       "The Imitation Game                                   8.0\n",
       "Room                                                 8.0\n",
       "Gone Girl                                            7.9\n",
       "The Lord of the Rings: The Return of the King        7.9\n",
       "The Grand Budapest Hotel                             7.9\n",
       "Memento                                              7.9\n",
       "The Pianist                                          7.9\n",
       "The Wolf of Wall Street                              7.9\n",
       "Guardians of the Galaxy                              7.9\n",
       "12 Years a Slave                                     7.9\n",
       "Inception                                            7.9\n",
       "The Theory of Everything                             7.8\n",
       "Eternal Sunshine of the Spotless Mind                7.8\n",
       "There Will Be Blood                                  7.8\n",
       "Prisoners                                            7.8\n",
       "The Lord of the Rings: The Fellowship of the Ring    7.8\n",
       "The Fault in Our Stars                               7.8\n",
       "Spotlight                                            7.8\n",
       "Name: vote_average, dtype: float64"
      ]
     },
     "metadata": {},
     "output_type": "display_data"
    }
   ],
   "source": [
    "#34. Какие фильмы входят в 1 процент лучших по рейтингу? !!!!!!!!!!!!!!!!!!\n",
    "#Inside Out, Gone Girl, 12 Years a Slave\n",
    "#BloodRayne, The Adventures of Rocky & Bullwinkle\n",
    "#The Lord of the Rings: The Return of the King\n",
    "#300, Lucky Number Slevin\n",
    "\n",
    "grouped_data = data.groupby(['original_title'])['vote_average'].max().sort_values(ascending = False)\n",
    "\n",
    "#всего 1888,значит первые 18-19 фильмов в рейтинги будут 1% лучших \n",
    "display(grouped_data[0:21])\n",
    "\n",
    "#ошибка из-за того, что отранжировал фильмы по популярности,а не среднему рейтингу "
   ]
  },
  {
   "cell_type": "code",
   "execution_count": 283,
   "metadata": {
    "scrolled": true
   },
   "outputs": [
    {
     "name": "stdout",
     "output_type": "stream",
     "text": [
      "Johnny Depp & Helena Bonham Carter снимались вместе в одном фильме 6 раз\n",
      "Hugh Jackman & Ian McKellen снимались вместе в одном фильме 5 раз\n",
      "Vin Diesel & Paul Walker снимались вместе в одном фильме 5 раз\n",
      "Adam Sandler & Kevin James снимались вместе в одном фильме 5 раз\n",
      "Daniel Radcliffe & Rupert Grint снимались вместе в одном фильме 8 раз\n"
     ]
    }
   ],
   "source": [
    "#35. Какие актеры чаще всего снимаются в одном фильме вместе\n",
    "#Johnny Depp & Helena Bonham Carter\n",
    "#Hugh Jackman & Ian McKellen\n",
    "#Vin Diesel & Paul Walker\n",
    "#Adam Sandler & Kevin James\n",
    "#Daniel Radcliffe & Rupert Grint\n",
    "actors_tween = [['Johnny Depp', 'Helena Bonham Carter'], ['Hugh Jackman','Ian McKellen'], ['Vin Diesel','Paul Walker'], \n",
    "         ['Adam Sandler','Kevin James'], ['Daniel Radcliffe', 'Rupert Grint']]\n",
    "for actors in actors_tween:\n",
    "    grouped_data = data.loc[data.cast.str.contains(actors[0], na = False)]\n",
    "    grouped_data2 = grouped_data.loc[grouped_data.cast.str.contains(actors[1], na = False)]\n",
    "    print(actors[0],'&', actors[1], 'снимались вместе в одном фильме', len(grouped_data2), 'раз')\n",
    "\n"
   ]
  },
  {
   "cell_type": "code",
   "execution_count": 296,
   "metadata": {},
   "outputs": [
    {
     "name": "stdout",
     "output_type": "stream",
     "text": [
      "Quentin Tarantino 0.8571428571428571\n",
      "Steven Soderbergh 0.7692307692307693\n",
      "Robert Rodriguez 0.7272727272727273\n",
      "Christopher Nolan 1.0\n",
      "Clint Eastwood 0.8333333333333334\n"
     ]
    }
   ],
   "source": [
    "#36. У какого из режиссеров выше вероятность выпустить фильм в прибыли? (5 баллов)101\n",
    "#Quentin Tarantino\n",
    "#Steven Soderbergh\n",
    "#Robert Rodriguez\n",
    "#Christopher Nolan\n",
    "#Clint Eastwood\n",
    "\n",
    "#1. сортируем по фамилиям режиссеров\n",
    "directors = ['Quentin Tarantino', 'Steven Soderbergh', 'Robert Rodriguez', 'Christopher Nolan', 'Clint Eastwood']\n",
    "\n",
    "for director1 in directors:\n",
    "    count = 0\n",
    "    allcount = 0\n",
    "    grouped_data = data[data.director.str.contains(director1, na = False)]\n",
    "    for s in grouped_data['profit']:\n",
    "        allcount +=1\n",
    "        if s > 0:\n",
    "            count +=1\n",
    "    print(director1, count/allcount)\n",
    "\n",
    "#2. считаем общее количество фильмов по каждому режиссеру\n",
    "#3. считаем количество фильмов с прибылью и процент от общего количества"
   ]
  },
  {
   "cell_type": "code",
   "execution_count": 75,
   "metadata": {},
   "outputs": [],
   "source": [
    "# Предобработка датасета"
   ]
  },
  {
   "cell_type": "code",
   "execution_count": 303,
   "metadata": {},
   "outputs": [],
   "source": [
    "answer_ls = [] # создадим список с ответами. сюда будем добавлять ответы по мере прохождения теста\n",
    "# сюда можем вписать создание новых колонок в датасете"
   ]
  },
  {
   "cell_type": "markdown",
   "metadata": {},
   "source": [
    "# 1. У какого фильма из списка самый большой бюджет?\n",
    "Варианты ответов:\n",
    "1. The Dark Knight Rises (tt1345836)\n",
    "2. Spider-Man 3 (tt0413300)\n",
    "3. Avengers: Age of Ultron (tt2395427)\n",
    "4. The Warrior's Way\t(tt1032751)\n",
    "5. Pirates of the Caribbean: On Stranger Tides (tt1298650)"
   ]
  },
  {
   "cell_type": "code",
   "execution_count": 304,
   "metadata": {},
   "outputs": [],
   "source": [
    "# тут вводим ваш ответ и добавлем в его список ответов (сейчас для примера стоит \"1\")\n",
    "answer_ls.append(4)"
   ]
  },
  {
   "cell_type": "markdown",
   "metadata": {},
   "source": [
    "# 2. Какой из фильмов самый длительный (в минутах)\n",
    "1. The Lord of the Rings: The Return of the King\t(tt0167260)\n",
    "2. Gods and Generals\t(tt0279111)\n",
    "3. King Kong\t(tt0360717)\n",
    "4. Pearl Harbor\t(tt0213149)\n",
    "5. Alexander\t(tt0346491)"
   ]
  },
  {
   "cell_type": "code",
   "execution_count": 305,
   "metadata": {},
   "outputs": [],
   "source": [
    "answer_ls.append(2)"
   ]
  },
  {
   "cell_type": "markdown",
   "metadata": {},
   "source": [
    "# 3. Какой из фильмов самый короткий (в минутах)\n",
    "Варианты ответов:\n",
    "\n",
    "1. Home on the Range\ttt0299172\n",
    "2. The Jungle Book 2\ttt0283426\n",
    "3. Winnie the Pooh\ttt1449283\n",
    "4. Corpse Bride\ttt0121164\n",
    "5. Hoodwinked!\ttt0443536"
   ]
  },
  {
   "cell_type": "code",
   "execution_count": 306,
   "metadata": {},
   "outputs": [],
   "source": [
    "answer_ls.append(3)"
   ]
  },
  {
   "cell_type": "markdown",
   "metadata": {},
   "source": [
    "# 4. Средняя длительность фильма?\n",
    "\n",
    "Варианты ответов:\n",
    "1. 115\n",
    "2. 110\n",
    "3. 105\n",
    "4. 120\n",
    "5. 100\n"
   ]
  },
  {
   "cell_type": "code",
   "execution_count": 307,
   "metadata": {},
   "outputs": [],
   "source": [
    "answer_ls.append(2)"
   ]
  },
  {
   "cell_type": "markdown",
   "metadata": {},
   "source": [
    "# 5. Средняя длительность фильма по медиане?\n",
    "Варианты ответов:\n",
    "1. 106\n",
    "2. 112\n",
    "3. 101\n",
    "4. 120\n",
    "5. 115\n",
    "\n",
    "\n"
   ]
  },
  {
   "cell_type": "code",
   "execution_count": 308,
   "metadata": {},
   "outputs": [],
   "source": [
    "answer_ls.append(1)"
   ]
  },
  {
   "cell_type": "markdown",
   "metadata": {},
   "source": [
    "# 6. Какой самый прибыльный фильм?\n",
    "Варианты ответов:\n",
    "1. The Avengers\ttt0848228\n",
    "2. Minions\ttt2293640\n",
    "3. Star Wars: The Force Awakens\ttt2488496\n",
    "4. Furious 7\ttt2820852\n",
    "5. Avatar\ttt0499549"
   ]
  },
  {
   "cell_type": "code",
   "execution_count": 309,
   "metadata": {},
   "outputs": [],
   "source": [
    "answer_ls.append(5)"
   ]
  },
  {
   "cell_type": "markdown",
   "metadata": {},
   "source": [
    "# 7. Какой фильм самый убыточный?\n",
    "Варианты ответов:\n",
    "1. Supernova tt0134983\n",
    "2. The Warrior's Way tt1032751\n",
    "3. Flushed Away\ttt0424095\n",
    "4. The Adventures of Pluto Nash\ttt0180052\n",
    "5. The Lone Ranger\ttt1210819"
   ]
  },
  {
   "cell_type": "code",
   "execution_count": 310,
   "metadata": {},
   "outputs": [],
   "source": [
    "answer_ls.append(2)"
   ]
  },
  {
   "cell_type": "markdown",
   "metadata": {},
   "source": [
    "# 8. Сколько всего фильмов в прибыли?\n",
    "Варианты ответов:\n",
    "1. 1478\n",
    "2. 1520\n",
    "3. 1241\n",
    "4. 1135\n",
    "5. 1398\n"
   ]
  },
  {
   "cell_type": "code",
   "execution_count": 311,
   "metadata": {},
   "outputs": [],
   "source": [
    "answer_ls.append(1)"
   ]
  },
  {
   "cell_type": "markdown",
   "metadata": {},
   "source": [
    "# 9. Самый прибыльный фильм в 2008 году?\n",
    "Варианты ответов:\n",
    "1. Madagascar: Escape 2 Africa\ttt0479952\n",
    "2. Iron Man\ttt0371746\n",
    "3. Kung Fu Panda\ttt0441773\n",
    "4. The Dark Knight\ttt0468569\n",
    "5. Mamma Mia!\ttt0795421"
   ]
  },
  {
   "cell_type": "code",
   "execution_count": 312,
   "metadata": {},
   "outputs": [],
   "source": [
    "answer_ls.append(4)"
   ]
  },
  {
   "cell_type": "markdown",
   "metadata": {},
   "source": [
    "# 10. Самый убыточный фильм за период с 2012 по 2014 (включительно)?\n",
    "Варианты ответов:\n",
    "1. Winter's Tale\ttt1837709\n",
    "2. Stolen\ttt1656186\n",
    "3. Broken City\ttt1235522\n",
    "4. Upside Down\ttt1374992\n",
    "5. The Lone Ranger\ttt1210819\n"
   ]
  },
  {
   "cell_type": "code",
   "execution_count": 313,
   "metadata": {},
   "outputs": [],
   "source": [
    "answer_ls.append(5)"
   ]
  },
  {
   "cell_type": "markdown",
   "metadata": {},
   "source": [
    "# 11. Какого жанра фильмов больше всего?\n",
    "Варианты ответов:\n",
    "1. Action\n",
    "2. Adventure\n",
    "3. Drama\n",
    "4. Comedy\n",
    "5. Thriller"
   ]
  },
  {
   "cell_type": "code",
   "execution_count": 314,
   "metadata": {},
   "outputs": [],
   "source": [
    "answer_ls.append(3)"
   ]
  },
  {
   "cell_type": "markdown",
   "metadata": {},
   "source": [
    "# 12. Какого жанра среди прибыльных фильмов больше всего?\n",
    "Варианты ответов:\n",
    "1. Drama\n",
    "2. Comedy\n",
    "3. Action\n",
    "4. Thriller\n",
    "5. Adventure"
   ]
  },
  {
   "cell_type": "code",
   "execution_count": 315,
   "metadata": {},
   "outputs": [],
   "source": [
    "answer_ls.append(1)"
   ]
  },
  {
   "cell_type": "markdown",
   "metadata": {},
   "source": [
    "# 13. Кто из режиссеров снял больше всего фильмов?\n",
    "Варианты ответов:\n",
    "1. Steven Spielberg\n",
    "2. Ridley Scott \n",
    "3. Steven Soderbergh\n",
    "4. Christopher Nolan\n",
    "5. Clint Eastwood"
   ]
  },
  {
   "cell_type": "code",
   "execution_count": 316,
   "metadata": {},
   "outputs": [],
   "source": [
    "answer_ls.append(3)"
   ]
  },
  {
   "cell_type": "markdown",
   "metadata": {},
   "source": [
    "# 14. Кто из режиссеров снял больше всего Прибыльных фильмов?\n",
    "Варианты ответов:\n",
    "1. Steven Soderbergh\n",
    "2. Clint Eastwood\n",
    "3. Steven Spielberg\n",
    "4. Ridley Scott\n",
    "5. Christopher Nolan"
   ]
  },
  {
   "cell_type": "code",
   "execution_count": 317,
   "metadata": {},
   "outputs": [],
   "source": [
    "answer_ls.append(4)"
   ]
  },
  {
   "cell_type": "markdown",
   "metadata": {},
   "source": [
    "# 15. Кто из режиссеров принес больше всего прибыли?\n",
    "Варианты ответов:\n",
    "1. Steven Spielberg\n",
    "2. Christopher Nolan\n",
    "3. David Yates\n",
    "4. James Cameron\n",
    "5. Peter Jackson\n"
   ]
  },
  {
   "cell_type": "code",
   "execution_count": 318,
   "metadata": {},
   "outputs": [],
   "source": [
    "\n",
    "answer_ls.append(5)"
   ]
  },
  {
   "cell_type": "markdown",
   "metadata": {},
   "source": [
    "# 16. Какой актер принес больше всего прибыли?\n",
    "Варианты ответов:\n",
    "1. Emma Watson\n",
    "2. Johnny Depp\n",
    "3. Michelle Rodriguez\n",
    "4. Orlando Bloom\n",
    "5. Rupert Grint"
   ]
  },
  {
   "cell_type": "code",
   "execution_count": 319,
   "metadata": {},
   "outputs": [],
   "source": [
    "answer_ls.append(1)"
   ]
  },
  {
   "cell_type": "markdown",
   "metadata": {},
   "source": [
    "# 17. Какой актер принес меньше всего прибыли в 2012 году?\n",
    "Варианты ответов:\n",
    "1. Nicolas Cage\n",
    "2. Danny Huston\n",
    "3. Kirsten Dunst\n",
    "4. Jim Sturgess\n",
    "5. Sami Gayle"
   ]
  },
  {
   "cell_type": "code",
   "execution_count": 320,
   "metadata": {},
   "outputs": [],
   "source": [
    "answer_ls.append(3)"
   ]
  },
  {
   "cell_type": "markdown",
   "metadata": {},
   "source": [
    "# 18. Какой актер снялся в большем количестве высокобюджетных фильмов? (в фильмах где бюджет выше среднего по данной выборке)\n",
    "Варианты ответов:\n",
    "1. Tom Cruise\n",
    "2. Mark Wahlberg \n",
    "3. Matt Damon\n",
    "4. Angelina Jolie\n",
    "5. Adam Sandler"
   ]
  },
  {
   "cell_type": "code",
   "execution_count": 321,
   "metadata": {},
   "outputs": [],
   "source": [
    "answer_ls.append(3)"
   ]
  },
  {
   "cell_type": "markdown",
   "metadata": {},
   "source": [
    "# 19. В фильмах какого жанра больше всего снимался Nicolas Cage?  \n",
    "Варианты ответа:\n",
    "1. Drama\n",
    "2. Action\n",
    "3. Thriller\n",
    "4. Adventure\n",
    "5. Crime"
   ]
  },
  {
   "cell_type": "code",
   "execution_count": 322,
   "metadata": {},
   "outputs": [],
   "source": [
    "answer_ls.append(2)"
   ]
  },
  {
   "cell_type": "markdown",
   "metadata": {},
   "source": [
    "# 20. Какая студия сняла больше всего фильмов?\n",
    "Варианты ответа:\n",
    "1. Universal Pictures (Universal)\n",
    "2. Paramount Pictures\n",
    "3. Columbia Pictures\n",
    "4. Warner Bros\n",
    "5. Twentieth Century Fox Film Corporation"
   ]
  },
  {
   "cell_type": "code",
   "execution_count": 323,
   "metadata": {},
   "outputs": [],
   "source": [
    "answer_ls.append(4)"
   ]
  },
  {
   "cell_type": "markdown",
   "metadata": {},
   "source": [
    "# 21. Какая студия сняла больше всего фильмов в 2015 году?\n",
    "Варианты ответа:\n",
    "1. Universal Pictures\n",
    "2. Paramount Pictures\n",
    "3. Columbia Pictures\n",
    "4. Warner Bros\n",
    "5. Twentieth Century Fox Film Corporation"
   ]
  },
  {
   "cell_type": "code",
   "execution_count": 324,
   "metadata": {},
   "outputs": [],
   "source": [
    "answer_ls.append(1)"
   ]
  },
  {
   "cell_type": "markdown",
   "metadata": {},
   "source": [
    "# 22. Какая студия заработала больше всего денег в жанре комедий за все время?\n",
    "Варианты ответа:\n",
    "1. Warner Bros\n",
    "2. Universal Pictures (Universal)\n",
    "3. Columbia Pictures\n",
    "4. Paramount Pictures\n",
    "5. Walt Disney"
   ]
  },
  {
   "cell_type": "code",
   "execution_count": 325,
   "metadata": {},
   "outputs": [],
   "source": [
    "answer_ls.append(2)"
   ]
  },
  {
   "cell_type": "markdown",
   "metadata": {},
   "source": [
    "# 23. Какая студия заработала больше всего денег в 2012 году?\n",
    "Варианты ответа:\n",
    "1. Universal Pictures (Universal)\n",
    "2. Warner Bros\n",
    "3. Columbia Pictures\n",
    "4. Paramount Pictures\n",
    "5. Lucasfilm"
   ]
  },
  {
   "cell_type": "code",
   "execution_count": 326,
   "metadata": {},
   "outputs": [],
   "source": [
    "answer_ls.append(3)"
   ]
  },
  {
   "cell_type": "markdown",
   "metadata": {},
   "source": [
    "# 24. Самый убыточный фильм от Paramount Pictures\n",
    "Варианты ответа:\n",
    "\n",
    "1. K-19: The Widowmaker tt0267626\n",
    "2. Next tt0435705\n",
    "3. Twisted tt0315297\n",
    "4. The Love Guru tt0811138\n",
    "5. The Fighter tt0964517"
   ]
  },
  {
   "cell_type": "code",
   "execution_count": 327,
   "metadata": {},
   "outputs": [],
   "source": [
    "answer_ls.append(1)"
   ]
  },
  {
   "cell_type": "markdown",
   "metadata": {},
   "source": [
    "# 25. Какой Самый прибыльный год (заработали больше всего)?\n",
    "Варианты ответа:\n",
    "1. 2014\n",
    "2. 2008\n",
    "3. 2012\n",
    "4. 2002\n",
    "5. 2015"
   ]
  },
  {
   "cell_type": "code",
   "execution_count": 328,
   "metadata": {},
   "outputs": [],
   "source": [
    "answer_ls.append(5)"
   ]
  },
  {
   "cell_type": "markdown",
   "metadata": {},
   "source": [
    "# 26. Какой Самый прибыльный год для студии Warner Bros?\n",
    "Варианты ответа:\n",
    "1. 2014\n",
    "2. 2008\n",
    "3. 2012\n",
    "4. 2010\n",
    "5. 2015"
   ]
  },
  {
   "cell_type": "code",
   "execution_count": 329,
   "metadata": {},
   "outputs": [],
   "source": [
    "answer_ls.append(1)"
   ]
  },
  {
   "cell_type": "markdown",
   "metadata": {},
   "source": [
    "# 27. В каком месяце за все годы суммарно вышло больше всего фильмов?\n",
    "Варианты ответа:\n",
    "1. Январь\n",
    "2. Июнь\n",
    "3. Декабрь\n",
    "4. Сентябрь\n",
    "5. Май"
   ]
  },
  {
   "cell_type": "code",
   "execution_count": 330,
   "metadata": {},
   "outputs": [],
   "source": [
    "answer_ls.append(1)"
   ]
  },
  {
   "cell_type": "markdown",
   "metadata": {},
   "source": [
    "# 28. Сколько суммарно вышло фильмов летом? (за июнь, июль, август)\n",
    "Варианты ответа:\n",
    "1. 345\n",
    "2. 450\n",
    "3. 478\n",
    "4. 523\n",
    "5. 381"
   ]
  },
  {
   "cell_type": "code",
   "execution_count": 331,
   "metadata": {},
   "outputs": [],
   "source": [
    "answer_ls.append(1)"
   ]
  },
  {
   "cell_type": "markdown",
   "metadata": {},
   "source": [
    "# 29. Какой режисер выпускает (суммарно по годам) больше всего фильмов зимой?\n",
    "Варианты ответов:\n",
    "1. Steven Soderbergh\n",
    "2. Christopher Nolan\n",
    "3. Clint Eastwood\n",
    "4. Ridley Scott\n",
    "5. Peter Jackson"
   ]
  },
  {
   "cell_type": "code",
   "execution_count": 332,
   "metadata": {},
   "outputs": [],
   "source": [
    "answer_ls.append(1)"
   ]
  },
  {
   "cell_type": "markdown",
   "metadata": {},
   "source": [
    "# 30. Какой месяц чаще всего по годам самый прибыльный?\n",
    "Варианты ответа:\n",
    "1. Январь\n",
    "2. Июнь\n",
    "3. Декабрь\n",
    "4. Сентябрь\n",
    "5. Май"
   ]
  },
  {
   "cell_type": "code",
   "execution_count": 333,
   "metadata": {},
   "outputs": [],
   "source": [
    "answer_ls.append(2)"
   ]
  },
  {
   "cell_type": "markdown",
   "metadata": {},
   "source": [
    "# 31. Названия фильмов какой студии в среднем самые длинные по количеству символов?\n",
    "Варианты ответа:\n",
    "1. Universal Pictures (Universal)\n",
    "2. Warner Bros\n",
    "3. Jim Henson Company, The\n",
    "4. Paramount Pictures\n",
    "5. Four By Two Productions"
   ]
  },
  {
   "cell_type": "code",
   "execution_count": 334,
   "metadata": {},
   "outputs": [],
   "source": [
    "answer_ls.append(5)"
   ]
  },
  {
   "cell_type": "markdown",
   "metadata": {},
   "source": [
    "# 32. Названия фильмов какой студии в среднем самые длинные по количеству слов?\n",
    "Варианты ответа:\n",
    "1. Universal Pictures (Universal)\n",
    "2. Warner Bros\n",
    "3. Jim Henson Company, The\n",
    "4. Paramount Pictures\n",
    "5. Four By Two Productions"
   ]
  },
  {
   "cell_type": "code",
   "execution_count": 335,
   "metadata": {},
   "outputs": [],
   "source": [
    "answer_ls.append(5)"
   ]
  },
  {
   "cell_type": "markdown",
   "metadata": {},
   "source": [
    "# 33. Сколько разных слов используется в названиях фильмов?(без учета регистра)\n",
    "Варианты ответа:\n",
    "1. 6540\n",
    "2. 1002\n",
    "3. 2461\n",
    "4. 28304\n",
    "5. 3432"
   ]
  },
  {
   "cell_type": "code",
   "execution_count": 336,
   "metadata": {},
   "outputs": [],
   "source": [
    "answer_ls.append(3)"
   ]
  },
  {
   "cell_type": "markdown",
   "metadata": {},
   "source": [
    "# 34. Какие фильмы входят в 1 процент лучших по рейтингу?\n",
    "Варианты ответа:\n",
    "1. Inside Out, Gone Girl, 12 Years a Slave\n",
    "2. BloodRayne, The Adventures of Rocky & Bullwinkle\n",
    "3. The Lord of the Rings: The Return of the King\n",
    "4. 300, Lucky Number Slevin"
   ]
  },
  {
   "cell_type": "code",
   "execution_count": 337,
   "metadata": {},
   "outputs": [],
   "source": [
    "answer_ls.append(3)"
   ]
  },
  {
   "cell_type": "markdown",
   "metadata": {},
   "source": [
    "# 35. Какие актеры чаще всего снимаются в одном фильме вместе\n",
    "Варианты ответа:\n",
    "1. Johnny Depp & Helena Bonham Carter\n",
    "2. Hugh Jackman & Ian McKellen\n",
    "3. Vin Diesel & Paul Walker\n",
    "4. Adam Sandler & Kevin James\n",
    "5. Daniel Radcliffe & Rupert Grint"
   ]
  },
  {
   "cell_type": "code",
   "execution_count": 338,
   "metadata": {},
   "outputs": [],
   "source": [
    "answer_ls.append(5)"
   ]
  },
  {
   "cell_type": "markdown",
   "metadata": {},
   "source": [
    "# 36. У какого из режиссеров выше вероятность выпустить фильм в прибыли? (5 баллов)101\n",
    "Варианты ответа:\n",
    "1. Quentin Tarantino\n",
    "2. Steven Soderbergh\n",
    "3. Robert Rodriguez\n",
    "4. Christopher Nolan\n",
    "5. Clint Eastwood"
   ]
  },
  {
   "cell_type": "code",
   "execution_count": 339,
   "metadata": {},
   "outputs": [],
   "source": [
    "answer_ls.append(4)"
   ]
  },
  {
   "cell_type": "markdown",
   "metadata": {},
   "source": [
    "# Submission"
   ]
  },
  {
   "cell_type": "code",
   "execution_count": 340,
   "metadata": {},
   "outputs": [
    {
     "data": {
      "text/plain": [
       "36"
      ]
     },
     "execution_count": 340,
     "metadata": {},
     "output_type": "execute_result"
    }
   ],
   "source": [
    "len(answer_ls)"
   ]
  },
  {
   "cell_type": "code",
   "execution_count": 341,
   "metadata": {},
   "outputs": [
    {
     "data": {
      "text/html": [
       "<div>\n",
       "<style scoped>\n",
       "    .dataframe tbody tr th:only-of-type {\n",
       "        vertical-align: middle;\n",
       "    }\n",
       "\n",
       "    .dataframe tbody tr th {\n",
       "        vertical-align: top;\n",
       "    }\n",
       "\n",
       "    .dataframe thead th {\n",
       "        text-align: right;\n",
       "    }\n",
       "</style>\n",
       "<table border=\"1\" class=\"dataframe\">\n",
       "  <thead>\n",
       "    <tr style=\"text-align: right;\">\n",
       "      <th></th>\n",
       "      <th>Id</th>\n",
       "      <th>Answer</th>\n",
       "    </tr>\n",
       "  </thead>\n",
       "  <tbody>\n",
       "    <tr>\n",
       "      <th>0</th>\n",
       "      <td>1</td>\n",
       "      <td>4</td>\n",
       "    </tr>\n",
       "    <tr>\n",
       "      <th>1</th>\n",
       "      <td>2</td>\n",
       "      <td>2</td>\n",
       "    </tr>\n",
       "    <tr>\n",
       "      <th>2</th>\n",
       "      <td>3</td>\n",
       "      <td>3</td>\n",
       "    </tr>\n",
       "    <tr>\n",
       "      <th>3</th>\n",
       "      <td>4</td>\n",
       "      <td>2</td>\n",
       "    </tr>\n",
       "    <tr>\n",
       "      <th>4</th>\n",
       "      <td>5</td>\n",
       "      <td>1</td>\n",
       "    </tr>\n",
       "    <tr>\n",
       "      <th>5</th>\n",
       "      <td>6</td>\n",
       "      <td>5</td>\n",
       "    </tr>\n",
       "    <tr>\n",
       "      <th>6</th>\n",
       "      <td>7</td>\n",
       "      <td>2</td>\n",
       "    </tr>\n",
       "    <tr>\n",
       "      <th>7</th>\n",
       "      <td>8</td>\n",
       "      <td>1</td>\n",
       "    </tr>\n",
       "    <tr>\n",
       "      <th>8</th>\n",
       "      <td>9</td>\n",
       "      <td>4</td>\n",
       "    </tr>\n",
       "    <tr>\n",
       "      <th>9</th>\n",
       "      <td>10</td>\n",
       "      <td>5</td>\n",
       "    </tr>\n",
       "    <tr>\n",
       "      <th>10</th>\n",
       "      <td>11</td>\n",
       "      <td>3</td>\n",
       "    </tr>\n",
       "    <tr>\n",
       "      <th>11</th>\n",
       "      <td>12</td>\n",
       "      <td>1</td>\n",
       "    </tr>\n",
       "    <tr>\n",
       "      <th>12</th>\n",
       "      <td>13</td>\n",
       "      <td>3</td>\n",
       "    </tr>\n",
       "    <tr>\n",
       "      <th>13</th>\n",
       "      <td>14</td>\n",
       "      <td>4</td>\n",
       "    </tr>\n",
       "    <tr>\n",
       "      <th>14</th>\n",
       "      <td>15</td>\n",
       "      <td>5</td>\n",
       "    </tr>\n",
       "    <tr>\n",
       "      <th>15</th>\n",
       "      <td>16</td>\n",
       "      <td>1</td>\n",
       "    </tr>\n",
       "    <tr>\n",
       "      <th>16</th>\n",
       "      <td>17</td>\n",
       "      <td>3</td>\n",
       "    </tr>\n",
       "    <tr>\n",
       "      <th>17</th>\n",
       "      <td>18</td>\n",
       "      <td>3</td>\n",
       "    </tr>\n",
       "    <tr>\n",
       "      <th>18</th>\n",
       "      <td>19</td>\n",
       "      <td>2</td>\n",
       "    </tr>\n",
       "    <tr>\n",
       "      <th>19</th>\n",
       "      <td>20</td>\n",
       "      <td>4</td>\n",
       "    </tr>\n",
       "    <tr>\n",
       "      <th>20</th>\n",
       "      <td>21</td>\n",
       "      <td>1</td>\n",
       "    </tr>\n",
       "    <tr>\n",
       "      <th>21</th>\n",
       "      <td>22</td>\n",
       "      <td>2</td>\n",
       "    </tr>\n",
       "    <tr>\n",
       "      <th>22</th>\n",
       "      <td>23</td>\n",
       "      <td>3</td>\n",
       "    </tr>\n",
       "    <tr>\n",
       "      <th>23</th>\n",
       "      <td>24</td>\n",
       "      <td>1</td>\n",
       "    </tr>\n",
       "    <tr>\n",
       "      <th>24</th>\n",
       "      <td>25</td>\n",
       "      <td>5</td>\n",
       "    </tr>\n",
       "    <tr>\n",
       "      <th>25</th>\n",
       "      <td>26</td>\n",
       "      <td>1</td>\n",
       "    </tr>\n",
       "    <tr>\n",
       "      <th>26</th>\n",
       "      <td>27</td>\n",
       "      <td>1</td>\n",
       "    </tr>\n",
       "    <tr>\n",
       "      <th>27</th>\n",
       "      <td>28</td>\n",
       "      <td>1</td>\n",
       "    </tr>\n",
       "    <tr>\n",
       "      <th>28</th>\n",
       "      <td>29</td>\n",
       "      <td>1</td>\n",
       "    </tr>\n",
       "    <tr>\n",
       "      <th>29</th>\n",
       "      <td>30</td>\n",
       "      <td>2</td>\n",
       "    </tr>\n",
       "    <tr>\n",
       "      <th>30</th>\n",
       "      <td>31</td>\n",
       "      <td>5</td>\n",
       "    </tr>\n",
       "    <tr>\n",
       "      <th>31</th>\n",
       "      <td>32</td>\n",
       "      <td>5</td>\n",
       "    </tr>\n",
       "    <tr>\n",
       "      <th>32</th>\n",
       "      <td>33</td>\n",
       "      <td>3</td>\n",
       "    </tr>\n",
       "    <tr>\n",
       "      <th>33</th>\n",
       "      <td>34</td>\n",
       "      <td>3</td>\n",
       "    </tr>\n",
       "    <tr>\n",
       "      <th>34</th>\n",
       "      <td>35</td>\n",
       "      <td>5</td>\n",
       "    </tr>\n",
       "    <tr>\n",
       "      <th>35</th>\n",
       "      <td>36</td>\n",
       "      <td>4</td>\n",
       "    </tr>\n",
       "  </tbody>\n",
       "</table>\n",
       "</div>"
      ],
      "text/plain": [
       "    Id  Answer\n",
       "0    1       4\n",
       "1    2       2\n",
       "2    3       3\n",
       "3    4       2\n",
       "4    5       1\n",
       "5    6       5\n",
       "6    7       2\n",
       "7    8       1\n",
       "8    9       4\n",
       "9   10       5\n",
       "10  11       3\n",
       "11  12       1\n",
       "12  13       3\n",
       "13  14       4\n",
       "14  15       5\n",
       "15  16       1\n",
       "16  17       3\n",
       "17  18       3\n",
       "18  19       2\n",
       "19  20       4\n",
       "20  21       1\n",
       "21  22       2\n",
       "22  23       3\n",
       "23  24       1\n",
       "24  25       5\n",
       "25  26       1\n",
       "26  27       1\n",
       "27  28       1\n",
       "28  29       1\n",
       "29  30       2\n",
       "30  31       5\n",
       "31  32       5\n",
       "32  33       3\n",
       "33  34       3\n",
       "34  35       5\n",
       "35  36       4"
      ]
     },
     "execution_count": 341,
     "metadata": {},
     "output_type": "execute_result"
    }
   ],
   "source": [
    "pd.DataFrame({'Id':range(1,len(answer_ls)+1), 'Answer':answer_ls}, columns=['Id', 'Answer'])"
   ]
  },
  {
   "cell_type": "code",
   "execution_count": null,
   "metadata": {},
   "outputs": [],
   "source": []
  }
 ],
 "metadata": {
  "kernelspec": {
   "display_name": "Python 3",
   "language": "python",
   "name": "python3"
  },
  "language_info": {
   "codemirror_mode": {
    "name": "ipython",
    "version": 3
   },
   "file_extension": ".py",
   "mimetype": "text/x-python",
   "name": "python",
   "nbconvert_exporter": "python",
   "pygments_lexer": "ipython3",
   "version": "3.7.6"
  }
 },
 "nbformat": 4,
 "nbformat_minor": 4
}
